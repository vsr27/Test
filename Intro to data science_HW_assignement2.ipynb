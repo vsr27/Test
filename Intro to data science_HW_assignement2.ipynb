{
 "cells": [
  {
   "cell_type": "markdown",
   "metadata": {},
   "source": [
    "# Basics of classes, functions and dicts  (HW assignment 2)"
   ]
  },
  {
   "cell_type": "markdown",
   "metadata": {},
   "source": [
    "## Classes in Python"
   ]
  },
  {
   "cell_type": "code",
   "execution_count": 51,
   "metadata": {},
   "outputs": [
    {
     "data": {
      "text/plain": [
       "'Circle'"
      ]
     },
     "execution_count": 51,
     "metadata": {},
     "output_type": "execute_result"
    }
   ],
   "source": [
    "#A a class in python is used to bundling data and functionality together.\n",
    "#Below is the basic definition of a class.\n",
    "\n",
    "#syntax:The word 'class' followed by class name and a colon(:). Colon shows end of class header.\n",
    "\n",
    "class Shapes:\n",
    "    sname = \"Circle\"\n",
    "    ssides = 0\n",
    "    \n",
    "#Class objects support 2 types of operation : attribute references and instantination.\n",
    "\n",
    "#1. Attribute references    \n",
    "#When a object is called on any variable of the class the value is returned.\n",
    "\n",
    "Shapes.sname"
   ]
  },
  {
   "cell_type": "code",
   "execution_count": 48,
   "metadata": {},
   "outputs": [
    {
     "name": "stdout",
     "output_type": "stream",
     "text": [
      "First method is success.\n"
     ]
    }
   ],
   "source": [
    "#2.Instantiation\n",
    "#Class instantiation uses function notation\n",
    "\n",
    "class Shapes:\n",
    "    sname = \"Circle\"\n",
    "    ssides = 0\n",
    "    \n",
    "    def firstMethod(self):\n",
    "        print (\"First method is success.\")\n",
    "    \n",
    "exampleObject = Shapes()\n",
    "\n",
    "#The above statement created a new instance of the class and assigned that object to local variable exampleDefault\n",
    "#It creates a empty object\n",
    "\n",
    "exampleObject.firstMethod()"
   ]
  },
  {
   "cell_type": "code",
   "execution_count": 36,
   "metadata": {},
   "outputs": [
    {
     "name": "stdout",
     "output_type": "stream",
     "text": [
      "shape name is Square\n",
      "shape sides are 4\n"
     ]
    }
   ],
   "source": [
    "#Classes, methods and self:\n",
    "\n",
    "class Shapes:\n",
    "    sname = \"Circle\"\n",
    "    ssides = 0\n",
    "\n",
    "#A method is like a function , but it is defined inside a object , can use data from that object.\n",
    "#A method in class needs to take first parameter as self followed by which it can take any number of parameters.\n",
    "#Generally, when we call a method with some arguments, the corresponding class function is called by placing the method's object before the first argument.\n",
    "#self here is doing the same job explicitly.Thus, when a object refers to a method it throws the object in place of self.\n",
    "#self is a convention and should be used to keep readability of the code.\n",
    "\n",
    "    def createShapes(self,sname,ssides):\n",
    "        self.sname=sname\n",
    "        self.ssides=ssides        \n",
    "        \n",
    "    def display(self):\n",
    "        print (\"shape name is %s\" % self.sname)\n",
    "        print (\"shape sides are %d\" % self.ssides)\n",
    "        \n",
    "exampleDefault = Shapes()\n",
    "exampleDefault.sname\n",
    "\n",
    "square = Shapes()\n",
    "square.createShapes('Square',4)\n",
    "square.display()\n"
   ]
  },
  {
   "cell_type": "code",
   "execution_count": 64,
   "metadata": {},
   "outputs": [
    {
     "name": "stdout",
     "output_type": "stream",
     "text": [
      "Square is a polygon.\n"
     ]
    }
   ],
   "source": [
    "#Inheritance :Subclasses and superclasses\n",
    "\n",
    "#Class polygon here is a superclass of subclass Sqaure.\n",
    "#In this example of inheritance , the class Square has inherted the methods of class Polygon.\n",
    "#Thus, when a object is now ccreated on the child class, it can call the method which belongs to the parent class.\n",
    "\n",
    "class Polygon:\n",
    "\n",
    "    def createPolygon(self):\n",
    "        print(\"Square is a polygon.\")\n",
    "\n",
    "\n",
    "class Square(Polygon):\n",
    "    pass\n",
    "\n",
    "geometry = Square()\n",
    "geometry.createPolygon()\n",
    "\n",
    "#In this example after the class Sqaure inherited attributes from class Polygon a object (geometry) was created on class Sqaure.\n",
    "#As seen the child class object could successfully call the function in parent class."
   ]
  },
  {
   "cell_type": "code",
   "execution_count": 65,
   "metadata": {},
   "outputs": [
    {
     "name": "stdout",
     "output_type": "stream",
     "text": [
      "Square is a polygon.\n",
      "All polygons are closed figures.\n"
     ]
    }
   ],
   "source": [
    "#Multiple Inheritance \n",
    "\n",
    "#In multiple inheritance a child class can inherit the attributes from multiple parents at the same time.\n",
    "#The syntax of child class is : \n",
    "#class childClassName(ParentClass1,ParentClass2):\n",
    "#    statments\n",
    "\n",
    "class Polygon:\n",
    "\n",
    "    def createPolygon(self):\n",
    "        print(\"Square is a polygon.\")\n",
    "\n",
    "class ClosedFigure:\n",
    "\n",
    "    def createClosedFigure(self):\n",
    "        print(\"All polygons are closed figures.\")\n",
    "\n",
    "class Square(Polygon,ClosedFigure):\n",
    "    pass\n",
    "\n",
    "geometry = Square()\n",
    "geometry.createPolygon()\n",
    "geometry.createClosedFigure()\n",
    "\n",
    "#The child class object geometry here inherited attributes from both parent classes Polygon and ClosedFigure.\n",
    "#Thus the object geometry created on the child class could call functions in both parent classes Polygon and ClosedFigure."
   ]
  },
  {
   "cell_type": "code",
   "execution_count": 83,
   "metadata": {},
   "outputs": [
    {
     "name": "stdout",
     "output_type": "stream",
     "text": [
      "This is so pretty!\n",
      "It is fine.\n"
     ]
    }
   ],
   "source": [
    "#Polymorphism\n",
    "\n",
    "#Polymorphic behaviour allows a child to change some methods by using the same method name as the parent class' method.\n",
    "#Overriding the methods which have similar functionality can help to simply the code by simply using the same method name in chil class.\n",
    "\n",
    "class Person(object):\n",
    "    def expressing(self):\n",
    "        print(\"Different people, different nature.\")\n",
    "        \n",
    "class Lady(Person):\n",
    "    def expressing(self):\n",
    "        print (\"This is so pretty!\")\n",
    "\n",
    "class Man(Person):\n",
    "    def expressing(self):\n",
    "        print (\"It is fine.\")\n",
    "        \n",
    "individual = Lady()\n",
    "individual1=Man()\n",
    "\n",
    "individual.expressing()\n",
    "individual1.expressing()\n",
    "\n",
    "#As seen in the output the method expressing is used in the child classes by altering the message.\n",
    "#Thus although the child classes inherited the expression method from the parent class Person ,this method was overridden in the child classes.\n",
    "#Hence, the method when called on objects of child classes they give different results."
   ]
  },
  {
   "cell_type": "markdown",
   "metadata": {},
   "source": [
    "# Functions in Python"
   ]
  },
  {
   "cell_type": "markdown",
   "metadata": {},
   "source": [
    "### Functions are blocks of statements that make the code better in terms of redability, reusability and efficiency.\n",
    "### Function in python are of 2 types :  user defined functions and built-in functions.\n",
    "## 1. User defined Functions"
   ]
  },
  {
   "cell_type": "code",
   "execution_count": 1,
   "metadata": {},
   "outputs": [
    {
     "name": "stdout",
     "output_type": "stream",
     "text": [
      "This function converts KM/H to MPH\n",
      "Enter the speed in kmph.\n",
      "Input speed : 30\n",
      "The speed in mph  18.642\n"
     ]
    }
   ],
   "source": [
    "#Below is syntax of functions explained in details using a user defined functions.\n",
    "#Example 1 : User defined function to convert kilometer per hr to miles per hour.\n",
    "\n",
    "#1. The function starts with the definition \"def\" followed by the funciton name and parameter if required.\n",
    "#   To maintain the syntax of the code, the statements following the function header start generally 4 spaces from the left.\n",
    "#  def func_name(parameter):\n",
    "#     \"\"\"docstring\"\"\"\n",
    "#     statments\n",
    "#     return value\n",
    "\n",
    "#2. The first string after a function header is Docstring and it explains in brief what the funciton does.\n",
    "#   : the colon marks the end of the function header\n",
    "#   In the below functions the text in \"\"\"text\"\"\" is the docstring\n",
    " \n",
    "def printMenu():\n",
    "    \"\"\"\n",
    "    This function takes no parameters and prints steps to be followed.\n",
    "    return:none\n",
    "    \"\"\"\n",
    "    print (\"This function converts KM/H to MPH\")\n",
    "    print (\"Enter the speed in kmph.\")\n",
    "    \n",
    "def getInput():\n",
    "    \"\"\"\n",
    "    This function takes no parameters and returns the speed in kmph.\n",
    "    :return:kmph as a float\n",
    "    \"\"\"\n",
    "    kmph=input(\"Input speed : \")\n",
    "    return float(kmph)\n",
    "\n",
    "#3. The return statement as seen above is the word return followed by a value whihc is the result.\n",
    "#   For the above function result was typecasted to float before sending.\n",
    "\n",
    "def convertKmphToMph(speed):\n",
    "    \"\"\"\n",
    "    This functions takes speed in kmph in float as parameter and returns speed in mph.\n",
    "    :return:\n",
    "    param:speed as a float\n",
    "    \"\"\"\n",
    "    mph= 0.6214 * speed\n",
    "    return float(mph)\n",
    "    \n",
    "#4. Parameter(arguments) is passed in the function optionally.\n",
    "#   In the below example result was passed as a parameter.\n",
    "\n",
    "def printResult(result):\n",
    "    \"\"\"\n",
    "    This function takes result as the parameter and prints it.\n",
    "    :return: none\n",
    "    param: result as a float\n",
    "    \"\"\"\n",
    "    print (\"The speed in mph \", result)\n",
    "    \n",
    "#5. Once a function is defined it can be called from another function as seen below:\n",
    "def main():\n",
    "    printMenu()\n",
    "    speed = getInput()\n",
    "    result = convertKmphToMph(speed)\n",
    "    printResult(result)\n",
    "\n",
    "main()\n",
    "\n"
   ]
  },
  {
   "cell_type": "code",
   "execution_count": 16,
   "metadata": {},
   "outputs": [
    {
     "name": "stdout",
     "output_type": "stream",
     "text": [
      "Enter the number as a integer.\n",
      "Multiplication table will be displayed below:\n",
      "Input a number : 7\n",
      "7 x 1 = 7\n",
      "7 x 2 = 14\n",
      "7 x 3 = 21\n",
      "7 x 4 = 28\n",
      "7 x 5 = 35\n",
      "7 x 6 = 42\n",
      "7 x 7 = 49\n",
      "7 x 8 = 56\n",
      "7 x 9 = 63\n",
      "7 x 10 = 70\n"
     ]
    }
   ],
   "source": [
    "#User defined functions help to organise large programs into segments inorder to improve readbility and make debugging easier.\n",
    "#In case a code needs to be used over and over, it can be executed and called later using user defined functions.\n",
    "\n",
    "#Example 2: User defined function for getting multiplication table of any number.\n",
    "\n",
    "def getInput():\n",
    "    \"\"\"\n",
    "    This functions takes input from user of the number whoes table is to be produced.\n",
    "    :return:\n",
    "    param:none\n",
    "    \"\"\"\n",
    "    print (\"Enter the number as a integer.\")\n",
    "    print (\"Multiplication table will be displayed below:\")\n",
    "    num=int(input(\"Input a number : \"))\n",
    "    return num\n",
    "\n",
    "#The number obtained from the user input is stored in num\n",
    "num=getInput()\n",
    " \n",
    "\n",
    "# To use for loop to iterate 10 times range() funciton is used.\n",
    "# range() is a built in function which provides integers between start and stop values.\n",
    "for i in range(1, 11):\n",
    "    print(num,'x',i,'=',num*i)\n"
   ]
  },
  {
   "cell_type": "markdown",
   "metadata": {},
   "source": [
    "### Variables : scope and lifetime"
   ]
  },
  {
   "cell_type": "code",
   "execution_count": 29,
   "metadata": {},
   "outputs": [
    {
     "name": "stdout",
     "output_type": "stream",
     "text": [
      "Value of 'a' inside function call: 1\n",
      "Value of 'a' outside the function: 2\n"
     ]
    }
   ],
   "source": [
    "#Parameter and variables defined inside a function have local scope and they are destroyed from memory once function call is returned.\n",
    "#Example to illustrate local variables scope and lifetime:\n",
    "\n",
    "def local():\n",
    "    a = 1\n",
    "    print(\"Value of 'a' inside function call:\",a)\n",
    "\n",
    "a = 2\n",
    "local()\n",
    "print(\"Value of 'a' outside the function:\",a)\n"
   ]
  },
  {
   "cell_type": "code",
   "execution_count": 32,
   "metadata": {},
   "outputs": [
    {
     "name": "stdout",
     "output_type": "stream",
     "text": [
      "Value of 'a' inside function call: 1\n",
      "Value of 'a' outside the function: 1\n"
     ]
    }
   ],
   "source": [
    "#Inorder to make the variable retain values outside the function call, it has to be declared as global.\n",
    "\n",
    "def local():\n",
    "    global a\n",
    "    a = 1\n",
    "    print(\"Value of 'a' inside function call:\",a)\n",
    "\n",
    "a = 2\n",
    "local()\n",
    "print(\"Value of 'a' outside the function:\",a)\n",
    "\n",
    "#As seen in the above example the variable a has retainied the value 1 even after the function call since it was declared global."
   ]
  },
  {
   "cell_type": "markdown",
   "metadata": {},
   "source": [
    "## 2. Built-in Functions\n"
   ]
  },
  {
   "cell_type": "code",
   "execution_count": 36,
   "metadata": {},
   "outputs": [],
   "source": [
    "#Python comes with a number of built-in functions which are available to use. Some of them are listed below.\n",
    "#1. float() function is used to convert strings , int  data types to int datatype.\n",
    "\n",
    "def getInput():\n",
    "    \"\"\"\n",
    "    This function takes no parameters and returns the speed in kmph.\n",
    "    :return:kmph as a float\n",
    "    \"\"\"\n",
    "    kmph=input(\"Input speed : \")\n",
    "    return float(kmph)\n",
    "\n",
    "#In the above example the kmph speed which was entered by user was stored in variable 'kmph'.\n",
    "#This is done because by default in python the input is stored as string.\n",
    "# Similarly,int() function type casts strings, floats to integers.\n",
    "# str() function converts integers and floats to strings."
   ]
  },
  {
   "cell_type": "code",
   "execution_count": 68,
   "metadata": {},
   "outputs": [
    {
     "name": "stdout",
     "output_type": "stream",
     "text": [
      "The max of the numbers in the list is : 12\n",
      "The min of the numbers in the list is : -2\n",
      "The sum of the numbers in the list is : 40\n",
      "The sum of the numbers in the list with start 10 : 50\n",
      "Number whoes sum of digits is max is: 8\n",
      "Number whoes sum of digits is min is: 1\n"
     ]
    }
   ],
   "source": [
    "#2. max(), min, sum() functions\n",
    "#  These functions take 2 forms of arguments - iterable and list with 2 min parameters.\n",
    "\n",
    "#2.1 using max(arg1, arg2, *args, key)\n",
    "\n",
    "numlist = [-2, 0,2,4,6,8,10,12]\n",
    "print (\"The max of the numbers in the list is :\" , max(numlist) )\n",
    "\n",
    "print (\"The min of the numbers in the list is :\" , min(numlist))\n",
    "\n",
    "#syntax : sum(iterable, start)\n",
    "#Below is example of using sum without using start\n",
    "print (\"The sum of the numbers in the list is :\" , sum(numlist))\n",
    "#Below start is declared as 10 which will be added to the sum.\n",
    "print (\"The sum of the numbers in the list with start 10 :\" , sum(numlist,10))\n",
    "\n",
    "\n",
    "#2.2 using max(iterable, key)\n",
    "\n",
    "def sumOfDigits(n):\n",
    "    sum = 0\n",
    "    while(n):\n",
    "        sum += n % 10\n",
    "        n = int(n / 10)\n",
    "    return sum\n",
    "\n",
    "n = [1, 3, 2, 8, 2, 11, 6 ,21]\n",
    "# syntax: max(iterable, *iterables[,key, default])\n",
    "print('Number whoes sum of digits is max is:', max(n, key=sumOfDigits))\n",
    "print('Number whoes sum of digits is min is:', min (n, key=sumOfDigits))"
   ]
  },
  {
   "cell_type": "code",
   "execution_count": 72,
   "metadata": {},
   "outputs": [
    {
     "name": "stdout",
     "output_type": "stream",
     "text": [
      "The range of the numbers using syntax 1 in the list is : [1, 2, 3, 4, 5, 6, 7, 8, 9]\n",
      "The range of the numbers using syntax 2 in the list is : [0, 1, 2, 3, 4, 5, 6, 7, 8, 9]\n"
     ]
    }
   ],
   "source": [
    "#3. range() provides integers between start and stop.\n",
    "#   It has 2 forms of definition\n",
    "\n",
    "#3.1 syntax: range(start, stop[, step])\n",
    "print (\"The range of the numbers using syntax 1 in the list is :\" , list(range(1, 10)))\n",
    "\n",
    "#3.2 range(stop)\n",
    "print (\"The range of the numbers using syntax 2 in the list is :\" , list(range(10)))\n",
    "# Thus the range starts from 0 when not declared and includes integers till 9."
   ]
  },
  {
   "cell_type": "code",
   "execution_count": 73,
   "metadata": {},
   "outputs": [
    {
     "name": "stdout",
     "output_type": "stream",
     "text": [
      "The length of the list n is : 8\n",
      "The length of the range(1,10) is : 9\n"
     ]
    }
   ],
   "source": [
    "#4. len() returns the number of items in an object.\n",
    "\n",
    "#syntax: len(s)\n",
    "# where s can be any sequence : (string, bytes, tuple, list, or range) or a collection (dictionary, set or frozen set).\n",
    "n = [1, 3, 2, 8, 2, 11, 6 ,21]\n",
    "print (\"The length of the list n is :\" , len(n))\n",
    "\n",
    "print (\"The length of the range(1,10) is :\", len(range(1,10)))\n"
   ]
  },
  {
   "cell_type": "code",
   "execution_count": 82,
   "metadata": {},
   "outputs": [
    {
     "name": "stdout",
     "output_type": "stream",
     "text": [
      "Enter your height in feet: 5.5\n",
      "Your height in inches in cm is :  167.64000000000001\n"
     ]
    }
   ],
   "source": [
    "#5. input() function reads lines from input and converts it into string.\n",
    "\n",
    "#syntax: input([prompt])\n",
    "feet=float(input(\"Enter your height in feet: \"))\n",
    "result = float(feet*30.48)\n",
    "print(\"Your height in inches in cm is : \", result)\n"
   ]
  },
  {
   "cell_type": "code",
   "execution_count": 89,
   "metadata": {},
   "outputs": [
    {
     "name": "stdout",
     "output_type": "stream",
     "text": [
      "['a', 'b', 'i', 'n', 'o', 'r', 'w']\n",
      "['w', 'r', 'o', 'n', 'i', 'b', 'a']\n"
     ]
    }
   ],
   "source": [
    "#6. sorted() function sorts a list.\n",
    "\n",
    "#syntax: sorted(iterable[, key][, reverse])\n",
    "myexample = 'rainbow'\n",
    "print(sorted(myexample))\n",
    "\n",
    "#Example using the reverse option in sorted()\n",
    "myexample2 = {'r', 'a', 'i', 'n', 'b','o','w'}\n",
    "print(sorted(myexample2, reverse=True))"
   ]
  },
  {
   "cell_type": "code",
   "execution_count": 93,
   "metadata": {},
   "outputs": [
    {
     "name": "stdout",
     "output_type": "stream",
     "text": [
      "[-1, 4, 0]\n"
     ]
    }
   ],
   "source": [
    "#7. map() functions applies a given function to each item and returns a list of results.\n",
    "\n",
    "#syntax : map(function, iterable,)\n",
    "list1 = [-1, 2, 100]\n",
    "list2 = [0, 2, -100]\n",
    "\n",
    "result = map(lambda l1, l2: l1+l2, list1, list2)\n",
    "print(list(result))"
   ]
  },
  {
   "cell_type": "code",
   "execution_count": 96,
   "metadata": {},
   "outputs": [
    {
     "name": "stdout",
     "output_type": "stream",
     "text": [
      "The filtered elements are:\n",
      "-1\n",
      "-1\n",
      "True\n",
      "0\n"
     ]
    }
   ],
   "source": [
    "#8. filter() creates an iterator of elements from a iterator where a function returns true\n",
    "\n",
    "# syntax : filter(function, iterable)\n",
    "list1 = [-1, 0,'-1', False, True, '0']\n",
    "\n",
    "filteredList = filter(None, list1)\n",
    "\n",
    "print('The filtered elements are:')\n",
    "for i in filteredList:\n",
    "    print(i)\n",
    "    \n"
   ]
  },
  {
   "cell_type": "code",
   "execution_count": 101,
   "metadata": {},
   "outputs": [
    {
     "name": "stdout",
     "output_type": "stream",
     "text": [
      "<list_iterator object at 0x0000023115059630>\n",
      "i\n",
      "have\n",
      "1\n",
      "pet\n"
     ]
    }
   ],
   "source": [
    "#9. iter() returns iterator for a given object.\n",
    "\n",
    "#syntax: iter(object[, sentinel]) where sentinel is special value to indicate end of sequence.\n",
    "list1 = ['i', 'have', 1,'pet','dog']\n",
    "\n",
    "# converting list to iterator\n",
    "example = iter(list1)\n",
    "print(example)\n",
    "#The first output indicates the iterator was created with list1 \n",
    "\n",
    "#10. next() returns next item in the iterator.\n",
    "\n",
    "#syntax : next(iterator, default)\n",
    "print(next(example))\n",
    "print(next(example))\n",
    "print(next(example))\n",
    "print(next(example))\n",
    "#The outputs following the first output fetch the next element in the list."
   ]
  },
  {
   "cell_type": "markdown",
   "metadata": {},
   "source": [
    "# Dicts in python\n",
    "## Dicts use keys instead of numbers for the purpose of lookup"
   ]
  },
  {
   "cell_type": "code",
   "execution_count": 17,
   "metadata": {},
   "outputs": [
    {
     "name": "stdout",
     "output_type": "stream",
     "text": [
      "3\n"
     ]
    }
   ],
   "source": [
    "#Dicts are unordered collection of items which can have compound data types.\n",
    "\n",
    "#syntax :dict ={:,:} , a empty dict is written with 2 curly braces {}\n",
    "#Inside curly braces ,each key is separated from its value by a colon (:) and the items are separated by commas.\n",
    "\n",
    "#Below operations can be performed on dicts\n",
    "\n",
    "#1. Accessing the dict using key\n",
    "rank = {'maya': 3, 'john': 1, 'ron':2}\n",
    "print(rank['maya'])"
   ]
  },
  {
   "cell_type": "code",
   "execution_count": 41,
   "metadata": {},
   "outputs": [
    {
     "name": "stdout",
     "output_type": "stream",
     "text": [
      "{'maya': 3, 'ron': 2}\n"
     ]
    }
   ],
   "source": [
    "#2. Deleting elements from dict\n",
    "rank = {'maya': 3, 'john': 1, 'ron':2}\n",
    "del rank['john']\n",
    "print(rank)\n",
    "\n",
    "#As seen in the output , the entire item corresponding to john is deleted from the dict"
   ]
  },
  {
   "cell_type": "code",
   "execution_count": 47,
   "metadata": {},
   "outputs": [
    {
     "name": "stdout",
     "output_type": "stream",
     "text": [
      "1\n",
      "{'maya': 3, 'ron': 2}\n"
     ]
    }
   ],
   "source": [
    "#3. Removing elements from dict\n",
    "#pop() method can be used to remove items from the dict\n",
    "\n",
    "rank = {'maya': 3, 'john': 1, 'ron':2}\n",
    "print(rank.pop('john'))\n",
    "print(rank)\n",
    "\n",
    "#As seen in the output this method after removing the item returns the value of the key which was passed."
   ]
  },
  {
   "cell_type": "code",
   "execution_count": 46,
   "metadata": {},
   "outputs": [
    {
     "name": "stdout",
     "output_type": "stream",
     "text": [
      "{'maya': 3, 'john': 4, 'ron': 2}\n",
      "{'maya': 3, 'john': 1, 'ron': 2}\n"
     ]
    }
   ],
   "source": [
    "#4. Updating the dict\n",
    "rank = {'maya': 3, 'john': 1, 'ron':2}\n",
    "rank['john']=rank['john']+3\n",
    "print(rank)\n",
    "\n",
    "rank['john']=1\n",
    "print(rank)\n",
    "\n",
    "#As seen the 2 outputs are different as the second output shows the updated value for john"
   ]
  },
  {
   "cell_type": "code",
   "execution_count": 32,
   "metadata": {},
   "outputs": [
    {
     "name": "stdout",
     "output_type": "stream",
     "text": [
      "{'maya': 3, 'john': 1, 'ron': 2, 'rita': 1}\n"
     ]
    }
   ],
   "source": [
    "#5. Adding elements into the list\n",
    "rank = {'maya': 3, 'john': 1, 'ron':2}\n",
    "rank['rita']=1\n",
    "print(rank)  \n",
    "\n",
    "#As seen below ,output has a extra element rita "
   ]
  },
  {
   "cell_type": "markdown",
   "metadata": {},
   "source": [
    "#### Commonly used built-in functions with dicts:"
   ]
  },
  {
   "cell_type": "code",
   "execution_count": 33,
   "metadata": {},
   "outputs": [
    {
     "name": "stdout",
     "output_type": "stream",
     "text": [
      "3\n"
     ]
    }
   ],
   "source": [
    "#1. To find Length of dict\n",
    "\n",
    "rank = {'maya': 3, 'john': 1, 'ron':2}\n",
    "print (len(rank))\n",
    "\n",
    "#Dict rank has 3 element and hence the output length is 3."
   ]
  },
  {
   "cell_type": "code",
   "execution_count": 34,
   "metadata": {},
   "outputs": [
    {
     "name": "stdout",
     "output_type": "stream",
     "text": [
      "String : {'City': 'NY', 'Name': 'Rutgers'}\n"
     ]
    }
   ],
   "source": [
    "#2. String Representation in dict\n",
    "school = {'City': 'NY', 'Name': 'Rutgers'}\n",
    "print (\"String : %s\" % str (school))\n"
   ]
  },
  {
   "cell_type": "code",
   "execution_count": 35,
   "metadata": {},
   "outputs": [
    {
     "name": "stdout",
     "output_type": "stream",
     "text": [
      "Type of Variable : <class 'dict'>\n"
     ]
    }
   ],
   "source": [
    "#3. To get type of passed variable in dict\n",
    "rank = {'maya': 3, 'john': 1, 'ron':2}\n",
    "\n",
    "print (\"Type of Variable : %s\" %  type (rank))\n",
    "\n",
    "#The output shows that variable rank is a dict"
   ]
  },
  {
   "cell_type": "markdown",
   "metadata": {},
   "source": [
    "#### Python Dictionary methods :"
   ]
  },
  {
   "cell_type": "code",
   "execution_count": 36,
   "metadata": {},
   "outputs": [
    {
     "name": "stdout",
     "output_type": "stream",
     "text": [
      "Before length :3\n",
      "After length :0\n"
     ]
    }
   ],
   "source": [
    "#1. To remove all elements from dicct\n",
    "rank = {'maya': 3, 'john': 1, 'ron':2}\n",
    "print (\"Before length :%d\" %  len(rank))\n",
    "rank.clear()\n",
    "print (\"After length :%d\" %   len(rank))\n",
    "\n",
    "#The method clear() has successfully emptied the the dict rank."
   ]
  },
  {
   "cell_type": "code",
   "execution_count": 37,
   "metadata": {},
   "outputs": [
    {
     "name": "stdout",
     "output_type": "stream",
     "text": [
      "keys : dict_keys(['maya', 'john', 'ron'])\n"
     ]
    }
   ],
   "source": [
    "#2. To get all the keys in the dict\n",
    "rank = {'maya': 3, 'john': 1, 'ron':2}\n",
    "print (\"keys : %s\" %  rank.keys())\n",
    "\n",
    "#The method keys() returns only the keys of the dict and not the values "
   ]
  },
  {
   "cell_type": "code",
   "execution_count": 38,
   "metadata": {},
   "outputs": [
    {
     "name": "stdout",
     "output_type": "stream",
     "text": [
      "Value : {'maya': 3, 'john': 1, 'ron': 2, 'varun': 4}\n"
     ]
    }
   ],
   "source": [
    "#3. To update dict\n",
    "rank = {'maya': 3, 'john': 1, 'ron':2}\n",
    "rank2 = {'varun': 4 }\n",
    "\n",
    "rank.update(rank2)\n",
    "print (\"Value : %s\" %  rank)\n",
    "\n",
    "#The method update() updated the dict by adding elements of dict rank2 to rank"
   ]
  },
  {
   "cell_type": "code",
   "execution_count": 39,
   "metadata": {},
   "outputs": [
    {
     "name": "stdout",
     "output_type": "stream",
     "text": [
      "Value : {'maya': 3, 'john': 1, 'ron': 2}\n"
     ]
    }
   ],
   "source": [
    "#4. To copy from dict\n",
    "rank = {'maya': 3, 'john': 1, 'ron':2}\n",
    "\n",
    "rank2 = rank.copy()\n",
    "print (\"Value : %s\" %  rank2)\n",
    "\n",
    "#The method copy() copied all elements of dict rank to dict rank2"
   ]
  },
  {
   "cell_type": "code",
   "execution_count": 40,
   "metadata": {},
   "outputs": [
    {
     "name": "stdout",
     "output_type": "stream",
     "text": [
      "Value : 3\n",
      "Value : None\n"
     ]
    }
   ],
   "source": [
    "#5. To get key value available in dict\n",
    "\n",
    "rank = {'maya': 3, 'john': 1, 'ron':2}\n",
    "\n",
    "print (\"Value : %s\" %  rank.setdefault('maya', None))\n",
    "print (\"Value : %s\" %  rank.setdefault('jack', None))\n",
    "\n",
    "#The method setdefault() gives the value of the element in the dict. \n",
    "#If the key doesnt exist it is returning None."
   ]
  }
 ],
 "metadata": {
  "kernelspec": {
   "display_name": "Python 3",
   "language": "python",
   "name": "python3"
  },
  "language_info": {
   "codemirror_mode": {
    "name": "ipython",
    "version": 3
   },
   "file_extension": ".py",
   "mimetype": "text/x-python",
   "name": "python",
   "nbconvert_exporter": "python",
   "pygments_lexer": "ipython3",
   "version": "3.6.2"
  }
 },
 "nbformat": 4,
 "nbformat_minor": 2
}
