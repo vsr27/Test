{
 "cells": [
  {
   "cell_type": "code",
   "execution_count": 2,
   "metadata": {},
   "outputs": [
    {
     "name": "stdout",
     "output_type": "stream",
     "text": [
      "Input some comma seprated numbers : 11,23,20,23,10,88\n",
      "List :  ['11', '23', '20', '23', '10', '88']\n",
      "Tuple :  ('11', '23', '20', '23', '10', '88')\n"
     ]
    }
   ],
   "source": [
    "values = input(\"Input some comma seprated numbers : \")\n",
    "list = values.split(\",\")\n",
    "tuple = tuple(list)\n",
    "print('List : ',list)\n",
    "print('Tuple : ',tuple)\n"
   ]
  },
  {
   "cell_type": "code",
   "execution_count": 1,
   "metadata": {},
   "outputs": [
    {
     "name": "stdout",
     "output_type": "stream",
     "text": [
      "3003,3017,3024,3031,3038,3052,3059,3066,3073,3087,3094,3101,3108,3122,3129,3136,3143,3157,3164,3171,3178,3192,3199,3206,3213,3227,3234,3241,3248,3262,3269,3276,3283,3297,3304,3311,3318,3332,3339,3346,3353,3367,3374,3381,3388,3402,3409,3416,3423,3437,3444,3451,3458,3472,3479,3486,3493,3507,3514,3521,3528,3542,3549,3556,3563,3577,3584,3591,3598,3612,3619,3626,3633,3647,3654,3661,3668,3682,3689,3696,3703,3717,3724,3731,3738,3752,3759,3766,3773,3787,3794,3801,3808,3822,3829,3836,3843,3857,3864,3871,3878,3892,3899,3906,3913,3927,3934,3941,3948,3962,3969,3976,3983,3997,4004,4011,4018,4032,4039,4046,4053,4067,4074,4081,4088,4102,4109,4116,4123,4137,4144,4151,4158,4172,4179,4186,4193,4207,4214,4221,4228,4242,4249,4256,4263,4277,4284,4291,4298,4312,4319,4326,4333,4347,4354,4361,4368,4382,4389,4396,4403,4417,4424,4431,4438,4452,4459,4466,4473,4487,4494,4501,4508,4522,4529,4536,4543,4557,4564,4571,4578,4592,4599,4606,4613,4627,4634,4641,4648,4662,4669,4676,4683,4697,4704,4711,4718,4732,4739,4746,4753,4767,4774,4781,4788,4802,4809,4816,4823,4837,4844,4851,4858,4872,4879,4886,4893,4907,4914,4921,4928,4942,4949,4956,4963,4977,4984,4991,4998,5012,5019,5026,5033,5047,5054,5061,5068,5082,5089,5096,5103,5117,5124,5131,5138,5152,5159,5166,5173,5187,5194,5201,5208,5222,5229,5236,5243,5257,5264,5271,5278,5292,5299\n"
     ]
    }
   ],
   "source": [
    "numbers=[]\n",
    "for i in range(3000, 5300):\n",
    "    if (i%7==0) and (i%5!=0):\n",
    "        numbers.append(str(i))\n",
    "\n",
    "print (','.join(numbers))\n"
   ]
  },
  {
   "cell_type": "code",
   "execution_count": 3,
   "metadata": {},
   "outputs": [
    {
     "name": "stdout",
     "output_type": "stream",
     "text": [
      "Python Lab\n",
      "PYTHON LAB\n"
     ]
    }
   ],
   "source": [
    "class InnputOutputString():\n",
    "    def __init__(self):\n",
    "        self.string1 = \"\"\n",
    "\n",
    "    def getStr(self):\n",
    "        self.string1 = input()\n",
    "\n",
    "    def printStr(self):\n",
    "        print(self.string1.upper())\n",
    "        \n",
    "stringObj = InnputOutputString()\n",
    "stringObj.getStr()\n",
    "stringObj.printStr()\n"
   ]
  },
  {
   "cell_type": "code",
   "execution_count": null,
   "metadata": {},
   "outputs": [],
   "source": []
  }
 ],
 "metadata": {
  "kernelspec": {
   "display_name": "Python 3",
   "language": "python",
   "name": "python3"
  },
  "language_info": {
   "codemirror_mode": {
    "name": "ipython",
    "version": 3
   },
   "file_extension": ".py",
   "mimetype": "text/x-python",
   "name": "python",
   "nbconvert_exporter": "python",
   "pygments_lexer": "ipython3",
   "version": "3.6.4"
  }
 },
 "nbformat": 4,
 "nbformat_minor": 2
}
