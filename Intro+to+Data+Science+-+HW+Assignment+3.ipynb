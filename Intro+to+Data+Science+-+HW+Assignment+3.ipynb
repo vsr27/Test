{
 "cells": [
  {
   "cell_type": "markdown",
   "metadata": {},
   "source": [
    "# HW Assignment 2 : Numpy and Scipy basic functionality"
   ]
  },
  {
   "cell_type": "markdown",
   "metadata": {},
   "source": [
    "### Python with the help of popular libraries like numpy and scipy becomes a powerful environment for scientific computing."
   ]
  },
  {
   "cell_type": "markdown",
   "metadata": {},
   "source": [
    "## NumPy library : Array"
   ]
  },
  {
   "cell_type": "markdown",
   "metadata": {},
   "source": [
    "### 1.Creating array using existing data : array()"
   ]
  },
  {
   "cell_type": "code",
   "execution_count": 32,
   "metadata": {},
   "outputs": [
    {
     "data": {
      "text/plain": [
       "array([ 1. ,  2.3,  4. ,  5.6])"
      ]
     },
     "execution_count": 32,
     "metadata": {},
     "output_type": "execute_result"
    }
   ],
   "source": [
    "#The central feature of NumPy is the array object class. \n",
    "#Arrays are similar to lists in Python, except that every element of an array must be of the same type, typically a numeric type like float or int.\n",
    "#Arrays make operations with large amounts of numeric data very fast and are generally much more efficient than lists. \n",
    "#An array can be created from a list: \n",
    "\n",
    "import numpy as np\n",
    "a = np.array([1, 2.3, 4, 5.6], float) \n",
    "a\n",
    "\n",
    "#syntax: array(object, dtype=None, copy=True, order='K', subok=False, ndmin=0)\n",
    "#Here, the function array takes two arguments:\n",
    "#the list to be converted into the array and the type of each member of the list."
   ]
  },
  {
   "cell_type": "code",
   "execution_count": 17,
   "metadata": {},
   "outputs": [
    {
     "data": {
      "text/plain": [
       "0"
      ]
     },
     "execution_count": 17,
     "metadata": {},
     "output_type": "execute_result"
    }
   ],
   "source": [
    "a = np.array(9)\n",
    "\n",
    "#Array in Numpy can be zero dimentsional, one dimensional or multidimensional\n",
    "\n",
    "#(1.1) Zero dimensional array:\n",
    "np.ndim(a)\n",
    "\n",
    "#Scalars are zero dimensional. \n",
    "#In the above example, we created the scalar 9.\n",
    "#The output shows dimension of our array using the ndim() method."
   ]
  },
  {
   "cell_type": "code",
   "execution_count": 18,
   "metadata": {},
   "outputs": [
    {
     "data": {
      "text/plain": [
       "numpy.ndarray"
      ]
     },
     "execution_count": 18,
     "metadata": {},
     "output_type": "execute_result"
    }
   ],
   "source": [
    "#(1.2) One dimensional array (vectors) :\n",
    "#Numpy arrays are containers of items of the same type\n",
    "\n",
    "a = np.array([1, 2.3, 4, 5.6], float)    \n",
    "#This is an example of 1 dimensional array with all elements having float data type.\n",
    "\n",
    "type(a) \n",
    " \n",
    "#The function type() here provides the object type of 'a' as ndarray.\n",
    "#ndarray stands for 'N dimentional array'.\n",
    "#An ndarray is a (usually fixed-size) multidimensional container of items of the same type and size. \n",
    "#The number of dimensions and items in an array is defined by its shape , which is a tuple of N positive integers that specify the sizes of each dimension."
   ]
  },
  {
   "cell_type": "code",
   "execution_count": 19,
   "metadata": {},
   "outputs": [
    {
     "data": {
      "text/plain": [
       "array([ 1. ,  2.3,  4. ,  5. ])"
      ]
     },
     "execution_count": 19,
     "metadata": {},
     "output_type": "execute_result"
    }
   ],
   "source": [
    "#Upcasting of array.\n",
    "\n",
    "a = np.array([1, 2.3, 4, 5])    \n",
    "a\n",
    "\n",
    "#Array stores all the elements with the same type. Since one element 2.3 was float, all other elements were upcasted here.\n",
    "#The output shows that array a has all elements stored as float."
   ]
  },
  {
   "cell_type": "code",
   "execution_count": 25,
   "metadata": {},
   "outputs": [
    {
     "data": {
      "text/plain": [
       "array([[1, 2],\n",
       "       [3, 4]])"
      ]
     },
     "execution_count": 25,
     "metadata": {},
     "output_type": "execute_result"
    }
   ],
   "source": [
    "#(1.3) Multidimensional array:\n",
    "#Array of Numpy are of arbitary dimension\n",
    "\n",
    "a = np.array(np.mat('1 2; 3 4'))\n",
    "\n",
    "#The above is example of a 2 dimensional array.\n",
    "#The method mat() interpret the input as a matrix\n",
    "#syntax : mat(data, dtype=None)[source]\n",
    "\n",
    "a"
   ]
  },
  {
   "cell_type": "code",
   "execution_count": 28,
   "metadata": {},
   "outputs": [
    {
     "data": {
      "text/plain": [
       "array([[ 1.,  2.,  3.],\n",
       "       [ 4.,  5.,  6.]])"
      ]
     },
     "execution_count": 28,
     "metadata": {},
     "output_type": "execute_result"
    }
   ],
   "source": [
    "#Another example of multidimensional array.  Unlike lists, different axes are accessed using commas inside bracket notation.  \n",
    "#Here is an example with a two-dimensional array (e.g., a matrix):\n",
    "\n",
    "a = np.array([[1, 2, 3], [4, 5, 6]], float)\n",
    "a"
   ]
  },
  {
   "cell_type": "markdown",
   "metadata": {},
   "source": [
    "### 2.Creating array with values specified using arange()"
   ]
  },
  {
   "cell_type": "code",
   "execution_count": 29,
   "metadata": {},
   "outputs": [
    {
     "data": {
      "text/plain": [
       "array([3, 4, 5, 6])"
      ]
     },
     "execution_count": 29,
     "metadata": {},
     "output_type": "execute_result"
    }
   ],
   "source": [
    "#syntax : arange([start, ]stop, [step, ]dtype=None)\n",
    "#Values are generated within the half-open interval [start, stop)\n",
    "#It creates array using Numerical range function 'arange'\n",
    "\n",
    "a = np.arange(3,7) \n",
    "a"
   ]
  },
  {
   "cell_type": "code",
   "execution_count": 6,
   "metadata": {},
   "outputs": [
    {
     "data": {
      "text/plain": [
       "6"
      ]
     },
     "execution_count": 6,
     "metadata": {},
     "output_type": "execute_result"
    }
   ],
   "source": [
    "#Accessing a array is similar to accessing a list.\n",
    "\n",
    "a[3] \n",
    "\n",
    "#Here, the element of index 3 is returned."
   ]
  },
  {
   "cell_type": "markdown",
   "metadata": {},
   "source": [
    "### Slicing Python array:"
   ]
  },
  {
   "cell_type": "code",
   "execution_count": 27,
   "metadata": {},
   "outputs": [
    {
     "data": {
      "text/plain": [
       "array([ 2.3,  4. ])"
      ]
     },
     "execution_count": 27,
     "metadata": {},
     "output_type": "execute_result"
    }
   ],
   "source": [
    "#1. By giving the start and end index:\n",
    "\n",
    "a = np.array([1, 2.3, 4, 5.6], float) \n",
    "a[1:3] \n",
    "\n",
    "#Here, as seen the elements between index 1 and 3 have been returned."
   ]
  },
  {
   "cell_type": "code",
   "execution_count": 28,
   "metadata": {},
   "outputs": [
    {
     "data": {
      "text/plain": [
       "array([ 1. ,  2.3,  4. ])"
      ]
     },
     "execution_count": 28,
     "metadata": {},
     "output_type": "execute_result"
    }
   ],
   "source": [
    "#2. By giving the end index:\n",
    "\n",
    "a = np.array([1, 2.3, 4, 5.6], float) \n",
    "a[:3] \n",
    "\n",
    "#Here, as seen the elements between index 0 and 2 have been returned."
   ]
  },
  {
   "cell_type": "code",
   "execution_count": 30,
   "metadata": {},
   "outputs": [
    {
     "data": {
      "text/plain": [
       "array([ 1.,  4.])"
      ]
     },
     "execution_count": 30,
     "metadata": {},
     "output_type": "execute_result"
    }
   ],
   "source": [
    "#3. By giving the start , end and the slicing increment:\n",
    "\n",
    "a = np.array([1, 2.3, 4, 5.6], float) \n",
    "a[0:3:2] \n",
    "\n",
    "#Here, as seen the elements between index 0 and 3 have been returned with an interval of 2 in them.\n",
    "#Thus,1.0 and 4.0 were returned as they have index 1 and 3 with interval of 2 in between."
   ]
  },
  {
   "cell_type": "code",
   "execution_count": 31,
   "metadata": {},
   "outputs": [
    {
     "data": {
      "text/plain": [
       "5.0"
      ]
     },
     "execution_count": 31,
     "metadata": {},
     "output_type": "execute_result"
    }
   ],
   "source": [
    "#Assigning new value to array elements.\n",
    "\n",
    "a[0] = 5.\n",
    "a[0]"
   ]
  },
  {
   "cell_type": "code",
   "execution_count": 32,
   "metadata": {},
   "outputs": [
    {
     "data": {
      "text/plain": [
       "array([ 5. ,  2.3,  4. ,  5.6])"
      ]
     },
     "execution_count": 32,
     "metadata": {},
     "output_type": "execute_result"
    }
   ],
   "source": [
    "a\n",
    "\n",
    "#As seen the array a now has 0th element as 5.0"
   ]
  },
  {
   "cell_type": "code",
   "execution_count": 35,
   "metadata": {},
   "outputs": [
    {
     "data": {
      "text/plain": [
       "array([ 4.,  5.,  6.])"
      ]
     },
     "execution_count": 35,
     "metadata": {},
     "output_type": "execute_result"
    }
   ],
   "source": [
    "#Array slicing in multidimensional array:\n",
    "\n",
    "a = np.array([[1, 2, 3], [4, 5, 6],[7, 8, 9]], float)\n",
    "a[1,:] \n",
    "\n",
    "# Use of a single \":\" in a dimension indicates the use of everything along that dimension"
   ]
  },
  {
   "cell_type": "code",
   "execution_count": 36,
   "metadata": {},
   "outputs": [
    {
     "data": {
      "text/plain": [
       "array([ 2.,  5.,  8.])"
      ]
     },
     "execution_count": 36,
     "metadata": {},
     "output_type": "execute_result"
    }
   ],
   "source": [
    "a[:,1]\n",
    "\n",
    "#[:] with no arguments is the same as [:] for lists - it can be read 'all indices along this axis'. \n",
    "#So, to get the second column along the second dimension:"
   ]
  },
  {
   "cell_type": "code",
   "execution_count": 37,
   "metadata": {},
   "outputs": [
    {
     "data": {
      "text/plain": [
       "array([[ 8.,  9.]])"
      ]
     },
     "execution_count": 37,
     "metadata": {},
     "output_type": "execute_result"
    }
   ],
   "source": [
    "a[-1:,-2:]\n",
    "\n",
    "#This output will return the values of 3rd row (-1) and last 2 columns (-2)"
   ]
  },
  {
   "cell_type": "code",
   "execution_count": 38,
   "metadata": {},
   "outputs": [
    {
     "data": {
      "text/plain": [
       "array([[ 1.,  2.,  3.],\n",
       "       [ 7.,  8.,  9.]])"
      ]
     },
     "execution_count": 38,
     "metadata": {},
     "output_type": "execute_result"
    }
   ],
   "source": [
    "#the optional third argument, meaning the ``step size'', also called stride or increment.\n",
    "#Its default value is 1, meaning return every element in the specified range. \n",
    "\n",
    "a[::2]\n",
    "\n",
    "#Thus, in this case when no rows and column were selected and increment passed was 2, the 1st and 3rd rows were returned."
   ]
  },
  {
   "cell_type": "markdown",
   "metadata": {},
   "source": [
    "### The shape property of an array"
   ]
  },
  {
   "cell_type": "code",
   "execution_count": 44,
   "metadata": {},
   "outputs": [
    {
     "data": {
      "text/plain": [
       "(3, 3)"
      ]
     },
     "execution_count": 44,
     "metadata": {},
     "output_type": "execute_result"
    }
   ],
   "source": [
    "# It returns a tuple of integers with the size of each array dimension: \n",
    "#These numbers denote the lengths of the corresponding array dimension.\n",
    "#The shape of an array tells us also something about the order in which the indices are processed, \n",
    "# i.e. first rows, then columns and after that the further dimensions.\n",
    "\n",
    "a = np.array([[1, 2, 3], [4, 5, 6],[7, 8, 9]], float)\n",
    "a.shape\n",
    "\n",
    "#Here, the array has 3 rows and 3 columns and thus output is 3,3"
   ]
  },
  {
   "cell_type": "code",
   "execution_count": 46,
   "metadata": {},
   "outputs": [
    {
     "name": "stdout",
     "output_type": "stream",
     "text": [
      "[[ 1.  2.  3.  4.  5.  6.  7.  8.  9.]]\n"
     ]
    }
   ],
   "source": [
    "#Alternate property of shape() is it can be used to change the shape of an array. \n",
    "\n",
    "a.shape = (1, 9)\n",
    "print(a)\n",
    "\n",
    "#As seen here the array a has now become of dimension 1,9 from 3,3"
   ]
  },
  {
   "cell_type": "code",
   "execution_count": 47,
   "metadata": {},
   "outputs": [
    {
     "name": "stdout",
     "output_type": "stream",
     "text": [
      "()\n"
     ]
    }
   ],
   "source": [
    "#The shape of a scalar is an empty tuple.\n",
    "\n",
    "a = np.array(11)\n",
    "print(np.shape(a))"
   ]
  },
  {
   "cell_type": "code",
   "execution_count": 51,
   "metadata": {},
   "outputs": [
    {
     "data": {
      "text/plain": [
       "array([[ 1.,  2.,  3.],\n",
       "       [ 4.,  5.,  6.],\n",
       "       [ 7.,  8.,  9.]])"
      ]
     },
     "execution_count": 51,
     "metadata": {},
     "output_type": "execute_result"
    }
   ],
   "source": [
    "#Arrays can also be reshaped using tuples that specify new dimensions.\n",
    "\n",
    "a = np.array([1, 2, 3, 4, 5, 6,7, 8, 9], float)\n",
    "a = a.reshape((3,3))\n",
    "a"
   ]
  },
  {
   "cell_type": "markdown",
   "metadata": {},
   "source": [
    "### The dtype in numpy"
   ]
  },
  {
   "cell_type": "code",
   "execution_count": 53,
   "metadata": {},
   "outputs": [
    {
     "data": {
      "text/plain": [
       "dtype('float64')"
      ]
     },
     "execution_count": 53,
     "metadata": {},
     "output_type": "execute_result"
    }
   ],
   "source": [
    "a = np.array([1, 2, 3, 4, 5, 6,7, 8, 9], float) \n",
    "a.dtype\n",
    "\n",
    "#The dtype property tells you what type of values are stored by the array\n",
    "#A numpy array is homogeneous, and contains elements described by a dtype object. "
   ]
  },
  {
   "cell_type": "markdown",
   "metadata": {},
   "source": [
    "### The len() function"
   ]
  },
  {
   "cell_type": "code",
   "execution_count": 54,
   "metadata": {},
   "outputs": [
    {
     "data": {
      "text/plain": [
       "2"
      ]
     },
     "execution_count": 54,
     "metadata": {},
     "output_type": "execute_result"
    }
   ],
   "source": [
    "#When used with an array, the len function returns the length of the first axis\n",
    "\n",
    "a = np.array([[1, 2, 3], [4, 5, 6]], float)\n",
    "len(a)  "
   ]
  },
  {
   "cell_type": "markdown",
   "metadata": {},
   "source": [
    "### The 'in'  statement"
   ]
  },
  {
   "cell_type": "code",
   "execution_count": 56,
   "metadata": {},
   "outputs": [
    {
     "data": {
      "text/plain": [
       "True"
      ]
     },
     "execution_count": 56,
     "metadata": {},
     "output_type": "execute_result"
    }
   ],
   "source": [
    "#It can be used to test if values are present in an array: \n",
    "\n",
    "a = np.array([[1, 2, 3], [4, 5, 6]], float)\n",
    "4 in a\n",
    "\n",
    "#Since 4 is an element of array a , the output returned is True else it would have returned False."
   ]
  },
  {
   "cell_type": "markdown",
   "metadata": {},
   "source": [
    "### Indexing"
   ]
  },
  {
   "cell_type": "code",
   "execution_count": 58,
   "metadata": {},
   "outputs": [
    {
     "data": {
      "text/plain": [
       "8"
      ]
     },
     "execution_count": 58,
     "metadata": {},
     "output_type": "execute_result"
    }
   ],
   "source": [
    "#Single indexing is the way, you will most probably expect it:\n",
    "\n",
    "a = np.array([1, 1, 2, 3, 5, 8, 13, 21])\n",
    "\n",
    "a[5]"
   ]
  },
  {
   "cell_type": "code",
   "execution_count": 59,
   "metadata": {},
   "outputs": [
    {
     "name": "stdout",
     "output_type": "stream",
     "text": [
      "4.5\n"
     ]
    }
   ],
   "source": [
    "#Indexing multidimensional arrays:\n",
    "\n",
    "a = np.array([ [1.2, 2.3, 3.4], \n",
    "               [4.5, 5.6, 6.7],\n",
    "               [7.8, 8.9, 9.0]])\n",
    "print(a[1][0])\n",
    "\n",
    "#Here, we accessed the element in the second row, i.e. the row with the index 1, and the first column (index 0)"
   ]
  },
  {
   "cell_type": "code",
   "execution_count": 64,
   "metadata": {},
   "outputs": [
    {
     "name": "stdout",
     "output_type": "stream",
     "text": [
      "6.7\n"
     ]
    }
   ],
   "source": [
    "#The alternative way of accessing the elements is by seperating by commas.\n",
    "\n",
    "a = np.array([ [1.2, 2.3, 3.4], \n",
    "               [4.5, 5.6, 6.7],\n",
    "               [7.8, 8.9, 9.0]])\n",
    "\n",
    "print(a[1,2])"
   ]
  },
  {
   "cell_type": "markdown",
   "metadata": {},
   "source": [
    "### Arrays created by 1s and 0s"
   ]
  },
  {
   "cell_type": "code",
   "execution_count": 66,
   "metadata": {},
   "outputs": [
    {
     "name": "stdout",
     "output_type": "stream",
     "text": [
      "[[ 1.  1.  1.]\n",
      " [ 1.  1.  1.]]\n"
     ]
    }
   ],
   "source": [
    "a = np.ones((2,3))\n",
    "print(a)\n",
    "\n",
    "#By default it will be filled with Ones of type float.\n"
   ]
  },
  {
   "cell_type": "code",
   "execution_count": 68,
   "metadata": {},
   "outputs": [
    {
     "data": {
      "text/plain": [
       "array([[1, 1, 1],\n",
       "       [1, 1, 1]])"
      ]
     },
     "execution_count": 68,
     "metadata": {},
     "output_type": "execute_result"
    }
   ],
   "source": [
    "#If you need integer Ones, you have to set the optional parameter dtype to int\n",
    "\n",
    "a = np.ones((2,3),dtype=int)\n",
    "a"
   ]
  },
  {
   "cell_type": "code",
   "execution_count": 69,
   "metadata": {},
   "outputs": [
    {
     "data": {
      "text/plain": [
       "array([[ 0.,  0.,  0.],\n",
       "       [ 0.,  0.,  0.]])"
      ]
     },
     "execution_count": 69,
     "metadata": {},
     "output_type": "execute_result"
    }
   ],
   "source": [
    "#The method ones() is valid for the method zeros() analogously.\n",
    "\n",
    "a = np.zeros((2,3))\n",
    "a"
   ]
  },
  {
   "cell_type": "code",
   "execution_count": 71,
   "metadata": {},
   "outputs": [
    {
     "data": {
      "text/plain": [
       "array([1, 1, 1, 1, 1, 1, 1, 1])"
      ]
     },
     "execution_count": 71,
     "metadata": {},
     "output_type": "execute_result"
    }
   ],
   "source": [
    "#One way to create an array of 1s and 0s if it has to have the same shape as another existing array 'a'\n",
    "\n",
    "a = np.array([1, 1, 2, 3, 5, 8, 13, 21])\n",
    "b = np.ones_like(a)\n",
    "b"
   ]
  },
  {
   "cell_type": "code",
   "execution_count": 72,
   "metadata": {},
   "outputs": [
    {
     "data": {
      "text/plain": [
       "array([0, 0, 0, 0, 0, 0, 0, 0])"
      ]
     },
     "execution_count": 72,
     "metadata": {},
     "output_type": "execute_result"
    }
   ],
   "source": [
    "#Similarly the array to create another array with zeros is as follows:\n",
    "\n",
    "a = np.array([1, 1, 2, 3, 5, 8, 13, 21])\n",
    "b = np.zeros_like(a)\n",
    "b"
   ]
  },
  {
   "cell_type": "code",
   "execution_count": 81,
   "metadata": {},
   "outputs": [
    {
     "data": {
      "text/plain": [
       "array([[ 1.,  0.,  0.,  0.],\n",
       "       [ 0.,  1.,  0.,  0.],\n",
       "       [ 0.,  0.,  1.,  0.],\n",
       "       [ 0.,  0.,  0.,  1.]])"
      ]
     },
     "execution_count": 81,
     "metadata": {},
     "output_type": "execute_result"
    }
   ],
   "source": [
    "#To create an identity matrix of a given size, \n",
    "a = np.identity(4, dtype=float) \n",
    "a"
   ]
  },
  {
   "cell_type": "code",
   "execution_count": 82,
   "metadata": {},
   "outputs": [
    {
     "data": {
      "text/plain": [
       "array([[ 0.,  1.,  0.,  0.],\n",
       "       [ 0.,  0.,  1.,  0.],\n",
       "       [ 0.,  0.,  0.,  1.],\n",
       "       [ 0.,  0.,  0.,  0.]])"
      ]
     },
     "execution_count": 82,
     "metadata": {},
     "output_type": "execute_result"
    }
   ],
   "source": [
    "#The eye function returns matrices with ones along the kth diagonal\n",
    "a = np.eye(4, k=1, dtype=float)\n",
    "a"
   ]
  },
  {
   "cell_type": "markdown",
   "metadata": {},
   "source": [
    "### Copying arrays"
   ]
  },
  {
   "cell_type": "code",
   "execution_count": 79,
   "metadata": {},
   "outputs": [
    {
     "data": {
      "text/plain": [
       "array([ 1,  1,  2,  3,  5,  8, 13, 21])"
      ]
     },
     "execution_count": 79,
     "metadata": {},
     "output_type": "execute_result"
    }
   ],
   "source": [
    "#Return an array copy of the given object 'obj'.\n",
    "#syntax : copy(obj, order='K')\n",
    "\n",
    "a = np.array([1, 1, 2, 3, 5, 8, 13, 21])\n",
    "c = a.copy()\n",
    "\n",
    "c"
   ]
  },
  {
   "cell_type": "code",
   "execution_count": 80,
   "metadata": {},
   "outputs": [
    {
     "data": {
      "text/plain": [
       "array([ 1,  1,  2,  3,  5,  8, 13, 21])"
      ]
     },
     "execution_count": 80,
     "metadata": {},
     "output_type": "execute_result"
    }
   ],
   "source": [
    "a = np.array([1, 1, 2, 3, 5, 8, 13, 21])\n",
    "b = a\n",
    "b\n",
    "\n",
    "#The direct association method also creates a copy of the array"
   ]
  },
  {
   "cell_type": "markdown",
   "metadata": {},
   "source": [
    "### Array Mathematics"
   ]
  },
  {
   "cell_type": "code",
   "execution_count": 83,
   "metadata": {},
   "outputs": [
    {
     "data": {
      "text/plain": [
       "array([ 6.,  4.,  9.])"
      ]
     },
     "execution_count": 83,
     "metadata": {},
     "output_type": "execute_result"
    }
   ],
   "source": [
    "#The arrays should be the same size during addition, subtraction, etc.: \n",
    "\n",
    "#Addition\n",
    "a = np.array([1,2,3], float)\n",
    "b = np.array([5,2,6], float) \n",
    "a+b"
   ]
  },
  {
   "cell_type": "code",
   "execution_count": 84,
   "metadata": {},
   "outputs": [
    {
     "data": {
      "text/plain": [
       "array([ 4.,  0.,  3.])"
      ]
     },
     "execution_count": 84,
     "metadata": {},
     "output_type": "execute_result"
    }
   ],
   "source": [
    "#Subtraction\n",
    "a = np.array([1,2,3], float)\n",
    "b = np.array([5,2,6], float) \n",
    "b-a"
   ]
  },
  {
   "cell_type": "code",
   "execution_count": 86,
   "metadata": {},
   "outputs": [
    {
     "data": {
      "text/plain": [
       "array([  5.,   4.,  18.])"
      ]
     },
     "execution_count": 86,
     "metadata": {},
     "output_type": "execute_result"
    }
   ],
   "source": [
    "#Multiplication\n",
    "a = np.array([1,2,3], float)\n",
    "b = np.array([5,2,6], float) \n",
    "a * b"
   ]
  },
  {
   "cell_type": "code",
   "execution_count": 87,
   "metadata": {},
   "outputs": [
    {
     "data": {
      "text/plain": [
       "array([ 5.,  1.,  2.])"
      ]
     },
     "execution_count": 87,
     "metadata": {},
     "output_type": "execute_result"
    }
   ],
   "source": [
    "#Division\n",
    "a = np.array([1,2,3], float)\n",
    "b = np.array([5,2,6], float) \n",
    "b/a"
   ]
  },
  {
   "cell_type": "code",
   "execution_count": 88,
   "metadata": {},
   "outputs": [
    {
     "data": {
      "text/plain": [
       "array([   5.,    4.,  216.])"
      ]
     },
     "execution_count": 88,
     "metadata": {},
     "output_type": "execute_result"
    }
   ],
   "source": [
    "#Raised to the Power\n",
    "a = np.array([1,2,3], float)\n",
    "b = np.array([5,2,6], float) \n",
    "b**a"
   ]
  },
  {
   "cell_type": "code",
   "execution_count": 89,
   "metadata": {},
   "outputs": [
    {
     "data": {
      "text/plain": [
       "array([ 1.,  0.,  3.])"
      ]
     },
     "execution_count": 89,
     "metadata": {},
     "output_type": "execute_result"
    }
   ],
   "source": [
    "#% Operator\n",
    "a = np.array([1,2,3], float)\n",
    "b = np.array([5,2,6], float) \n",
    "a%b"
   ]
  },
  {
   "cell_type": "code",
   "execution_count": 90,
   "metadata": {},
   "outputs": [
    {
     "data": {
      "text/plain": [
       "array([ 1.,  2.,  3.])"
      ]
     },
     "execution_count": 90,
     "metadata": {},
     "output_type": "execute_result"
    }
   ],
   "source": [
    "#sqrt function\n",
    "a = np.array([1, 4, 9], float) \n",
    "np.sqrt(a)"
   ]
  },
  {
   "cell_type": "markdown",
   "metadata": {},
   "source": [
    "### Array Iteration"
   ]
  },
  {
   "cell_type": "code",
   "execution_count": 100,
   "metadata": {},
   "outputs": [
    {
     "name": "stdout",
     "output_type": "stream",
     "text": [
      "1\n",
      "2\n",
      "3\n"
     ]
    }
   ],
   "source": [
    "#Iterate over arrays in a manner similar to that of lists\n",
    "\n",
    "a = np.array([1, 2,3], int) \n",
    "for x in a:\n",
    "    print (x)"
   ]
  },
  {
   "cell_type": "code",
   "execution_count": 99,
   "metadata": {},
   "outputs": [
    {
     "name": "stdout",
     "output_type": "stream",
     "text": [
      "2\n",
      "12\n",
      "30\n"
     ]
    }
   ],
   "source": [
    "#For multidimensional arrays, iteration proceeds over the first axis such that each loop returns a subsection of the array\n",
    "\n",
    "a = np.array([[1, 2], [3, 4], [5, 6]], int) \n",
    "for (x,y) in a:\n",
    "    print (x*y)"
   ]
  },
  {
   "cell_type": "markdown",
   "metadata": {},
   "source": [
    "### Basic array operation"
   ]
  },
  {
   "cell_type": "code",
   "execution_count": 101,
   "metadata": {},
   "outputs": [
    {
     "data": {
      "text/plain": [
       "9.0"
      ]
     },
     "execution_count": 101,
     "metadata": {},
     "output_type": "execute_result"
    }
   ],
   "source": [
    "#1. The items in an array can be summed:\n",
    "\n",
    "a = np.array([2, 4, 3], float) \n",
    "\n",
    "a.sum()"
   ]
  },
  {
   "cell_type": "code",
   "execution_count": 102,
   "metadata": {},
   "outputs": [
    {
     "data": {
      "text/plain": [
       "24.0"
      ]
     },
     "execution_count": 102,
     "metadata": {},
     "output_type": "execute_result"
    }
   ],
   "source": [
    "#2. The items in a array can be multiplied:\n",
    "\n",
    "a = np.array([2, 4, 3], float) \n",
    "\n",
    "a.prod()"
   ]
  },
  {
   "cell_type": "code",
   "execution_count": 103,
   "metadata": {},
   "outputs": [
    {
     "data": {
      "text/plain": [
       "3.0"
      ]
     },
     "execution_count": 103,
     "metadata": {},
     "output_type": "execute_result"
    }
   ],
   "source": [
    "# 3.To find mean of an array\n",
    "\n",
    "a = np.array([2, 4, 3], float) \n",
    "\n",
    "a.mean()"
   ]
  },
  {
   "cell_type": "code",
   "execution_count": 104,
   "metadata": {},
   "outputs": [
    {
     "data": {
      "text/plain": [
       "0.66666666666666663"
      ]
     },
     "execution_count": 104,
     "metadata": {},
     "output_type": "execute_result"
    }
   ],
   "source": [
    "# 4. To find variance of an array\n",
    "\n",
    "a = np.array([2, 4, 3], float) \n",
    "\n",
    "a.var()"
   ]
  },
  {
   "cell_type": "code",
   "execution_count": 105,
   "metadata": {},
   "outputs": [
    {
     "data": {
      "text/plain": [
       "0.81649658092772603"
      ]
     },
     "execution_count": 105,
     "metadata": {},
     "output_type": "execute_result"
    }
   ],
   "source": [
    "# 5. To find standard deviation\n",
    "\n",
    "a = np.array([2, 4, 3], float) \n",
    "\n",
    "a.std()"
   ]
  },
  {
   "cell_type": "code",
   "execution_count": 106,
   "metadata": {},
   "outputs": [
    {
     "data": {
      "text/plain": [
       "2.0"
      ]
     },
     "execution_count": 106,
     "metadata": {},
     "output_type": "execute_result"
    }
   ],
   "source": [
    "# 6. To find min of the array\n",
    "\n",
    "a = np.array([2, 4, 3], float) \n",
    "\n",
    "a.min()"
   ]
  },
  {
   "cell_type": "code",
   "execution_count": 107,
   "metadata": {},
   "outputs": [
    {
     "data": {
      "text/plain": [
       "4.0"
      ]
     },
     "execution_count": 107,
     "metadata": {},
     "output_type": "execute_result"
    }
   ],
   "source": [
    "# 7. To find min of the array\n",
    "\n",
    "a = np.array([2, 4, 3], float) \n",
    "\n",
    "a.max()"
   ]
  },
  {
   "cell_type": "code",
   "execution_count": 108,
   "metadata": {},
   "outputs": [
    {
     "data": {
      "text/plain": [
       "0"
      ]
     },
     "execution_count": 108,
     "metadata": {},
     "output_type": "execute_result"
    }
   ],
   "source": [
    "# 8.The argmin function return the array indices of the minimum value\n",
    "\n",
    "a = np.array([2, 4, 3], float) \n",
    "\n",
    "a.argmin()"
   ]
  },
  {
   "cell_type": "code",
   "execution_count": 110,
   "metadata": {},
   "outputs": [
    {
     "data": {
      "text/plain": [
       "1"
      ]
     },
     "execution_count": 110,
     "metadata": {},
     "output_type": "execute_result"
    }
   ],
   "source": [
    "# 9. The argmax function return the array indices of the minimum value\n",
    "\n",
    "a = np.array([2, 4, 3], float) \n",
    "\n",
    "a.argmax()"
   ]
  },
  {
   "cell_type": "code",
   "execution_count": 113,
   "metadata": {},
   "outputs": [
    {
     "data": {
      "text/plain": [
       "array([ 2.,  3.,  4.,  5.])"
      ]
     },
     "execution_count": 113,
     "metadata": {},
     "output_type": "execute_result"
    }
   ],
   "source": [
    "# 10. To find Unique elements from an array: \n",
    "\n",
    "a = np.array([2, 4, 3,4,4,5,3], float) \n",
    "\n",
    "np.unique(a)"
   ]
  },
  {
   "cell_type": "markdown",
   "metadata": {},
   "source": [
    "### Comparison operators and value testing "
   ]
  },
  {
   "cell_type": "code",
   "execution_count": 118,
   "metadata": {},
   "outputs": [
    {
     "data": {
      "text/plain": [
       "array([ True, False, False], dtype=bool)"
      ]
     },
     "execution_count": 118,
     "metadata": {},
     "output_type": "execute_result"
    }
   ],
   "source": [
    "#Greater than comparison\n",
    "\n",
    "a = np.array([1, 4, 0], float) \n",
    "b = np.array([0, 4, 2], float)\n",
    "\n",
    "a>b\n",
    "\n",
    "#This function compares each element index wise of a array with the other array of equal length and type .\n",
    "#The function returns True if the ith element in a is greater than b, else it returns False"
   ]
  },
  {
   "cell_type": "code",
   "execution_count": 119,
   "metadata": {},
   "outputs": [
    {
     "data": {
      "text/plain": [
       "array([False,  True, False], dtype=bool)"
      ]
     },
     "execution_count": 119,
     "metadata": {},
     "output_type": "execute_result"
    }
   ],
   "source": [
    "#Equal to comparison\n",
    "\n",
    "a = np.array([1, 4, 0], float) \n",
    "b = np.array([0, 4, 2], float)\n",
    "\n",
    "a==b\n",
    "\n",
    "#The function returns True if the ith element in a is equal to b, else it returns False"
   ]
  },
  {
   "cell_type": "code",
   "execution_count": 120,
   "metadata": {},
   "outputs": [
    {
     "data": {
      "text/plain": [
       "array([False,  True,  True], dtype=bool)"
      ]
     },
     "execution_count": 120,
     "metadata": {},
     "output_type": "execute_result"
    }
   ],
   "source": [
    "#Less than equal to comparison\n",
    "\n",
    "a = np.array([1, 4, 0], float) \n",
    "b = np.array([0, 4, 2], float)\n",
    "\n",
    "a<=b\n",
    "\n",
    "#The function returns True if the ith element in a is less than or equal to b, else it returns False"
   ]
  },
  {
   "cell_type": "code",
   "execution_count": 141,
   "metadata": {},
   "outputs": [
    {
     "data": {
      "text/plain": [
       "array([False,  True, False], dtype=bool)"
      ]
     },
     "execution_count": 141,
     "metadata": {},
     "output_type": "execute_result"
    }
   ],
   "source": [
    "#Arrays can be compared to single values using broadcasting: \n",
    "a = np.array([1, 4, 0], float)\n",
    "a > 2 \n",
    "\n",
    "#This function returns True if the ith element in a is greater than b, else it returns False"
   ]
  },
  {
   "cell_type": "markdown",
   "metadata": {},
   "source": [
    "### Arithmatic Operations"
   ]
  },
  {
   "cell_type": "code",
   "execution_count": 125,
   "metadata": {},
   "outputs": [
    {
     "data": {
      "text/plain": [
       "array([[ 3.,  4.],\n",
       "       [ 5.,  6.]])"
      ]
     },
     "execution_count": 125,
     "metadata": {},
     "output_type": "execute_result"
    }
   ],
   "source": [
    "#Addition\n",
    "\n",
    "a = np.arange(4, dtype = np.float_).reshape(2,2) \n",
    "b = np.array([3,3]) \n",
    "\n",
    "np.add(a,b) "
   ]
  },
  {
   "cell_type": "code",
   "execution_count": 126,
   "metadata": {},
   "outputs": [
    {
     "data": {
      "text/plain": [
       "array([[-3., -2.],\n",
       "       [-1.,  0.]])"
      ]
     },
     "execution_count": 126,
     "metadata": {},
     "output_type": "execute_result"
    }
   ],
   "source": [
    "#Subtraction\n",
    "\n",
    "a = np.arange(4, dtype = np.float_).reshape(2,2) \n",
    "b = np.array([3,3]) \n",
    "\n",
    "np.subtract(a,b) "
   ]
  },
  {
   "cell_type": "code",
   "execution_count": 129,
   "metadata": {},
   "outputs": [
    {
     "data": {
      "text/plain": [
       "array([[ 0.,  3.],\n",
       "       [ 6.,  9.]])"
      ]
     },
     "execution_count": 129,
     "metadata": {},
     "output_type": "execute_result"
    }
   ],
   "source": [
    "#Multiplication\n",
    "\n",
    "a = np.arange(4, dtype = np.float_).reshape(2,2) \n",
    "b = np.array([3,3]) \n",
    "\n",
    "np.multiply(a,b) "
   ]
  },
  {
   "cell_type": "code",
   "execution_count": 128,
   "metadata": {},
   "outputs": [
    {
     "data": {
      "text/plain": [
       "array([[ 0.        ,  0.33333333],\n",
       "       [ 0.66666667,  1.        ]])"
      ]
     },
     "execution_count": 128,
     "metadata": {},
     "output_type": "execute_result"
    }
   ],
   "source": [
    "#Division\n",
    "\n",
    "a = np.arange(4, dtype = np.float_).reshape(2,2) \n",
    "b = np.array([3,3]) \n",
    "\n",
    "np.divide(a,b)"
   ]
  },
  {
   "cell_type": "markdown",
   "metadata": {},
   "source": [
    "### String Functions\n"
   ]
  },
  {
   "cell_type": "code",
   "execution_count": 132,
   "metadata": {},
   "outputs": [
    {
     "data": {
      "text/plain": [
       "array(['my example'],\n",
       "      dtype='<U10')"
      ]
     },
     "execution_count": 132,
     "metadata": {},
     "output_type": "execute_result"
    }
   ],
   "source": [
    "#1. add()\n",
    "#This function provides string concatenation\n",
    "\n",
    "np.char.add(['my'],[' example']) "
   ]
  },
  {
   "cell_type": "code",
   "execution_count": 133,
   "metadata": {},
   "outputs": [
    {
     "data": {
      "text/plain": [
       "array(['MY', 'EXAMPLE'],\n",
       "      dtype='<U7')"
      ]
     },
     "execution_count": 133,
     "metadata": {},
     "output_type": "execute_result"
    }
   ],
   "source": [
    "#2. upper()\n",
    "#This function returns upper case of the string\n",
    "\n",
    "np.char.upper(['my','example'])"
   ]
  },
  {
   "cell_type": "code",
   "execution_count": 134,
   "metadata": {},
   "outputs": [
    {
     "data": {
      "text/plain": [
       "array(['my', 'example'],\n",
       "      dtype='<U7')"
      ]
     },
     "execution_count": 134,
     "metadata": {},
     "output_type": "execute_result"
    }
   ],
   "source": [
    "#3. lower()\n",
    "#This function returns lower case of the string\n",
    "\n",
    "np.char.lower(['MY', 'EXAMPLE'])"
   ]
  },
  {
   "cell_type": "code",
   "execution_count": 135,
   "metadata": {},
   "outputs": [
    {
     "data": {
      "text/plain": [
       "array('My example',\n",
       "      dtype='<U10')"
      ]
     },
     "execution_count": 135,
     "metadata": {},
     "output_type": "execute_result"
    }
   ],
   "source": [
    "#4. capitalize()\n",
    "#This function returns string after capitalizing first character\n",
    "\n",
    "np.char.capitalize('my example')"
   ]
  },
  {
   "cell_type": "code",
   "execution_count": 136,
   "metadata": {},
   "outputs": [
    {
     "data": {
      "text/plain": [
       "array('d:m:y',\n",
       "      dtype='<U5')"
      ]
     },
     "execution_count": 136,
     "metadata": {},
     "output_type": "execute_result"
    }
   ],
   "source": [
    "#5. join()\n",
    "#This function returns string after joining each character with the seperator\n",
    "\n",
    "np.char.join(':','dmy') "
   ]
  },
  {
   "cell_type": "code",
   "execution_count": 137,
   "metadata": {},
   "outputs": [
    {
     "data": {
      "text/plain": [
       "array('This is my first example',\n",
       "      dtype='<U24')"
      ]
     },
     "execution_count": 137,
     "metadata": {},
     "output_type": "execute_result"
    }
   ],
   "source": [
    "#6. replace()\n",
    "#This function returns the first string after replacing the second string with the thrid parameter passed.\n",
    "\n",
    "np.char.replace ('This was my first example', 'was', 'is')"
   ]
  },
  {
   "cell_type": "code",
   "execution_count": 138,
   "metadata": {},
   "outputs": [
    {
     "data": {
      "text/plain": [
       "array('y example',\n",
       "      dtype='<U10')"
      ]
     },
     "execution_count": 138,
     "metadata": {},
     "output_type": "execute_result"
    }
   ],
   "source": [
    "#7. strip\n",
    "#This function returns string after stripping the mentioned charater from the ends\n",
    "\n",
    "np.char.strip('my example','m') "
   ]
  },
  {
   "cell_type": "code",
   "execution_count": 140,
   "metadata": {},
   "outputs": [
    {
     "data": {
      "text/plain": [
       "array(['This', 'is', 'my', 'example'], dtype=object)"
      ]
     },
     "execution_count": 140,
     "metadata": {},
     "output_type": "execute_result"
    }
   ],
   "source": [
    "#8. split()\n",
    "#This function returns a list of words in the input string.\n",
    "\n",
    "np.char.split ('This is my example') "
   ]
  },
  {
   "cell_type": "code",
   "execution_count": null,
   "metadata": {},
   "outputs": [],
   "source": []
  }
 ],
 "metadata": {
  "kernelspec": {
   "display_name": "Python 3",
   "language": "python",
   "name": "python3"
  },
  "language_info": {
   "codemirror_mode": {
    "name": "ipython",
    "version": 3
   },
   "file_extension": ".py",
   "mimetype": "text/x-python",
   "name": "python",
   "nbconvert_exporter": "python",
   "pygments_lexer": "ipython3",
   "version": "3.6.2"
  }
 },
 "nbformat": 4,
 "nbformat_minor": 2
}
